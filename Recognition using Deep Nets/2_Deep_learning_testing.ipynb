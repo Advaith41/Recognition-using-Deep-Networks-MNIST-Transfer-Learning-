{
 "cells": [
  {
   "cell_type": "code",
   "execution_count": 1,
   "id": "ddd135bc",
   "metadata": {},
   "outputs": [],
   "source": [
    "#Creators -\n",
    "#Shreejit Gajanan Deshmukh\n",
    "#Venkata Sai Advaith Kandiraju\n",
    "#PRCV Spring 2023' Assignment 5 - Deep learning"
   ]
  },
  {
   "cell_type": "code",
   "execution_count": 2,
   "id": "75e3410f",
   "metadata": {},
   "outputs": [],
   "source": [
    "#Summary -\n",
    "#This program tests our trained network on new hand-drawn digits of our own."
   ]
  },
  {
   "cell_type": "code",
   "execution_count": 3,
   "id": "2888b738",
   "metadata": {},
   "outputs": [],
   "source": [
    "#importing libraries\n",
    "import torch\n",
    "import torchvision\n",
    "import matplotlib.pyplot as plt\n",
    "import torch.nn as nn\n",
    "import torch.nn.functional as F\n",
    "import torch.optim as optim\n",
    "import os\n",
    "import numpy as np\n",
    "import cv2\n",
    "from torchvision import transforms"
   ]
  },
  {
   "cell_type": "code",
   "execution_count": 9,
   "id": "4375f88d",
   "metadata": {},
   "outputs": [],
   "source": [
    "#Hyperparameters\n",
    "learning_rate = 0.01\n",
    "momentum = 0.5\n",
    "\n",
    "#Batch size for testing\n",
    "batch_size_test = 1000"
   ]
  },
  {
   "cell_type": "code",
   "execution_count": 5,
   "id": "326a2b41",
   "metadata": {},
   "outputs": [],
   "source": [
    "#Building the network with 2 convolution layers and following Relu, pooling and dropout layers\n",
    "class Net(nn.Module):\n",
    "    def __init__(self):\n",
    "        super(Net, self).__init__()\n",
    "        self.conv1 = nn.Conv2d(1, 10, kernel_size=5)\n",
    "        self.conv2 = nn.Conv2d(10, 20, kernel_size=5)\n",
    "        self.conv2_drop = nn.Dropout2d()\n",
    "        self.fc1 = nn.Linear(320, 50)\n",
    "        self.fc2 = nn.Linear(50, 10)\n",
    "\n",
    "    def forward(self, x):\n",
    "        x = F.relu(F.max_pool2d(self.conv1(x), 2))\n",
    "        x = F.relu(F.max_pool2d(self.conv2_drop(self.conv2(x)), 2))\n",
    "        x = x.view(-1, 320)\n",
    "        x = F.relu(self.fc1(x))\n",
    "#         x = F.dropout(x, training=self.training)\n",
    "        x = self.fc2(x)\n",
    "        return F.log_softmax(x)"
   ]
  },
  {
   "cell_type": "code",
   "execution_count": 6,
   "id": "fc651006",
   "metadata": {},
   "outputs": [],
   "source": [
    "#Initializing our neural network with the class defined above and the optimizer using stochastic gradient descent\n",
    "trained_NN = Net()\n",
    "trained_optimizer = optim.SGD(trained_NN.parameters(), lr=learning_rate,\n",
    "                      momentum=momentum)"
   ]
  },
  {
   "cell_type": "code",
   "execution_count": 7,
   "id": "4ed71bb6",
   "metadata": {},
   "outputs": [],
   "source": [
    "#Loading the trained network and optimizer\n",
    "network_state_dict = torch.load('results/model.pth')\n",
    "trained_NN.load_state_dict(network_state_dict)\n",
    "\n",
    "optimizer_state_dict = torch.load('results/optimizer.pth')\n",
    "trained_optimizer.load_state_dict(optimizer_state_dict)"
   ]
  },
  {
   "cell_type": "code",
   "execution_count": 10,
   "id": "3bd85cb4",
   "metadata": {},
   "outputs": [],
   "source": [
    "#Loading test data from MNIST for visualization\n",
    "test_loader = torch.utils.data.DataLoader(\n",
    "  torchvision.datasets.MNIST('/files/', train=False, download=True,\n",
    "                             transform=torchvision.transforms.Compose([\n",
    "                               torchvision.transforms.ToTensor(),\n",
    "                               torchvision.transforms.Normalize(\n",
    "                                 (0.1307,), (0.3081,))\n",
    "                             ])),\n",
    "  batch_size=batch_size_test, shuffle=True)\n",
    "\n",
    "examples = enumerate(test_loader)\n",
    "batch_idx, (example_data, example_targets) = next(examples)"
   ]
  },
  {
   "cell_type": "code",
   "execution_count": 11,
   "id": "7c238de0",
   "metadata": {},
   "outputs": [
    {
     "name": "stderr",
     "output_type": "stream",
     "text": [
      "C:\\Users\\shree\\AppData\\Local\\Temp\\ipykernel_18832\\1443040661.py:18: UserWarning: Implicit dimension choice for log_softmax has been deprecated. Change the call to include dim=X as an argument.\n",
      "  return F.log_softmax(x)\n"
     ]
    }
   ],
   "source": [
    "#Predicting output using our trained network\n",
    "with torch.no_grad():\n",
    "    output = trained_NN(example_data)"
   ]
  },
  {
   "cell_type": "code",
   "execution_count": 31,
   "id": "4e0a5172",
   "metadata": {},
   "outputs": [
    {
     "name": "stdout",
     "output_type": "stream",
     "text": [
      "For example 1 -\n",
      "The 10 output values for the example 1 are  tensor([-13.2600, -18.0100, -14.5300, -16.3800,  -9.4500, -11.9400,  -0.0000,\n",
      "        -18.2300, -14.9400, -16.7700])\n",
      "The max output value index -  6\n",
      "Correct label for the example is  tensor(6)\n",
      "\n",
      "\n",
      "\n",
      "For example 2 -\n",
      "The 10 output values for the example 2 are  tensor([-9.5500e+00, -1.1480e+01, -1.0000e-02, -8.2800e+00, -6.8900e+00,\n",
      "        -1.7300e+01, -1.3870e+01, -9.5400e+00, -4.7100e+00, -1.0320e+01])\n",
      "The max output value index -  2\n",
      "Correct label for the example is  tensor(2)\n",
      "\n",
      "\n",
      "\n",
      "For example 3 -\n",
      "The 10 output values for the example 3 are  tensor([-16.0600, -24.1400, -18.4300, -23.9000, -14.4100, -12.2400,  -0.0000,\n",
      "        -27.6500, -15.0400, -21.4900])\n",
      "The max output value index -  6\n",
      "Correct label for the example is  tensor(6)\n",
      "\n",
      "\n",
      "\n",
      "For example 4 -\n",
      "The 10 output values for the example 4 are  tensor([-6.2800, -6.4500, -2.9500, -4.6600, -8.0200, -7.7200, -8.7700, -3.4700,\n",
      "        -0.1000, -6.5600])\n",
      "The max output value index -  8\n",
      "Correct label for the example is  tensor(8)\n",
      "\n",
      "\n",
      "\n",
      "For example 5 -\n",
      "The 10 output values for the example 5 are  tensor([ -0.0200, -15.0200,  -7.8600, -11.9500,  -5.9100,  -8.1700,  -7.3900,\n",
      "         -5.4500, -11.2900,  -4.6700])\n",
      "The max output value index -  0\n",
      "Correct label for the example is  tensor(0)\n",
      "\n",
      "\n",
      "\n",
      "For example 6 -\n",
      "The 10 output values for the example 6 are  tensor([-18.6800, -18.5200, -16.4300,  -0.0000, -20.5400, -13.4200, -20.4400,\n",
      "        -18.9300, -13.8500, -15.9300])\n",
      "The max output value index -  3\n",
      "Correct label for the example is  tensor(3)\n",
      "\n",
      "\n",
      "\n",
      "For example 7 -\n",
      "The 10 output values for the example 7 are  tensor([-11.7300, -18.9400, -13.7900, -12.8600,  -9.5600,  -7.1800,  -0.0000,\n",
      "        -18.3300, -10.8100, -13.3300])\n",
      "The max output value index -  6\n",
      "Correct label for the example is  tensor(6)\n",
      "\n",
      "\n",
      "\n",
      "For example 8 -\n",
      "The 10 output values for the example 8 are  tensor([-11.6700,  -0.0200,  -5.9700,  -3.9000, -11.3300,  -8.8900, -13.2000,\n",
      "        -16.2700,  -8.0800, -10.6700])\n",
      "The max output value index -  1\n",
      "Correct label for the example is  tensor(1)\n",
      "\n",
      "\n",
      "\n",
      "For example 9 -\n",
      "The 10 output values for the example 9 are  tensor([-23.4000,  -0.0000, -10.1600,  -8.9100,  -8.2800,  -8.4800, -17.9300,\n",
      "         -9.4100,  -7.6200, -12.9300])\n",
      "The max output value index -  1\n",
      "Correct label for the example is  tensor(1)\n",
      "\n",
      "\n",
      "\n"
     ]
    }
   ],
   "source": [
    "#Printing output values for first 9 examples\n",
    "for i in range(9):\n",
    "    # round the output values to 2 decimal places\n",
    "    rounded_output = torch.round(output[i] * 100) / 100\n",
    "    \n",
    "    # print the rounded output values\n",
    "    print(f'For example {i + 1} -')\n",
    "    print(f'The 10 output values for the example {i + 1} are ',rounded_output)\n",
    "    print('The max output value index - ',rounded_output.argmax().item())\n",
    "    print('Correct label for the example is ',example_targets[i])\n",
    "    print('\\n\\n')"
   ]
  },
  {
   "cell_type": "code",
   "execution_count": 12,
   "id": "7a6535bd",
   "metadata": {},
   "outputs": [
    {
     "data": {
      "image/png": "[encoded data removed]",
      "text/plain": [
       "<Figure size 640x480 with 9 Axes>"
      ]
     },
     "metadata": {},
     "output_type": "display_data"
    }
   ],
   "source": [
    "#Plotting results of our prediction and the ground truth together for first 9 examples from test data\n",
    "fig = plt.figure()\n",
    "for i in range(9):\n",
    "    plt.subplot(3,3,i+1)\n",
    "    plt.tight_layout()\n",
    "    plt.imshow(example_data[i][0], cmap='gray', interpolation='none')\n",
    "    plt.title(\"Prediction: {}\".format(\n",
    "    output.data.max(1, keepdim=True)[1][i].item()))\n",
    "    plt.xticks([])\n",
    "    plt.yticks([])"
   ]
  },
  {
   "cell_type": "code",
   "execution_count": 32,
   "id": "5174e497",
   "metadata": {},
   "outputs": [],
   "source": [
    "#Path to the directory containing the hand drawn digits\n",
    "directory_path = 'D:\\OpenCV\\Project5_Deep_learning\\drawn_numbers'\n",
    "\n",
    "#Load all images in the directory\n",
    "images = []\n",
    "for filename in os.listdir(directory_path):\n",
    "    if filename.endswith('.jpg'):\n",
    "        image = cv2.imread(os.path.join(directory_path, filename),cv2.IMREAD_GRAYSCALE)\n",
    "        ret, image = cv2.threshold(image, 127, 255, cv2.THRESH_BINARY_INV)\n",
    "        images.append(image)\n",
    "\n",
    "#Convert the images to a tensor\n",
    "tensor_images = torch.stack([transforms.ToTensor()(image) for image in images])"
   ]
  },
  {
   "cell_type": "code",
   "execution_count": 33,
   "id": "34e1ce83",
   "metadata": {},
   "outputs": [
    {
     "name": "stderr",
     "output_type": "stream",
     "text": [
      "C:\\Users\\shree\\AppData\\Local\\Temp\\ipykernel_18832\\1443040661.py:18: UserWarning: Implicit dimension choice for log_softmax has been deprecated. Change the call to include dim=X as an argument.\n",
      "  return F.log_softmax(x)\n"
     ]
    }
   ],
   "source": [
    "#Finding predictions for our hand drawn images\n",
    "with torch.no_grad():\n",
    "    output = trained_NN(tensor_images)"
   ]
  },
  {
   "cell_type": "code",
   "execution_count": 34,
   "id": "2e51f071",
   "metadata": {},
   "outputs": [
    {
     "data": {
      "image/png": "[encoded data removed]",
      "text/plain": [
       "<Figure size 640x480 with 10 Axes>"
      ]
     },
     "metadata": {},
     "output_type": "display_data"
    }
   ],
   "source": [
    "#Plotting results of our prediction and drawn image for 10 digits\n",
    "fig = plt.figure()\n",
    "for i in range(10):\n",
    "    plt.subplot(4,3,i+1)\n",
    "    plt.tight_layout()\n",
    "    plt.imshow(tensor_images[i][0], cmap='gray', interpolation='none')\n",
    "    plt.title(\"Prediction: {}\".format(\n",
    "    output.data.max(1, keepdim=True)[1][i].item()))\n",
    "    plt.xticks([])\n",
    "    plt.yticks([])"
   ]
  },
  {
   "cell_type": "code",
   "execution_count": null,
   "id": "3fa9f35e",
   "metadata": {},
   "outputs": [],
   "source": []
  }
 ],
 "metadata": {
  "kernelspec": {
   "display_name": "Python 3 (ipykernel)",
   "language": "python",
   "name": "python3"
  },
  "language_info": {
   "codemirror_mode": {
    "name": "ipython",
    "version": 3
   },
   "file_extension": ".py",
   "mimetype": "text/x-python",
   "name": "python",
   "nbconvert_exporter": "python",
   "pygments_lexer": "ipython3",
   "version": "3.11.0"
  }
 },
 "nbformat": 4,
 "nbformat_minor": 5
}
